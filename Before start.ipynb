{
 "metadata": {
  "name": "Before start"
 },
 "nbformat": 3,
 "nbformat_minor": 0,
 "worksheets": [
  {
   "cells": [
    {
     "cell_type": "heading",
     "level": 1,
     "metadata": {},
     "source": [
      "Before entering the programming language..."
     ]
    },
    {
     "cell_type": "raw",
     "metadata": {},
     "source": [
      "Installation\n",
      "    -win\n",
      "    -linux\n",
      "    -mac\n",
      "how does it look like\n",
      "    -terminal, console\n",
      "what is needed to write code\n",
      "    -text editor \n",
      "    -tie the text editor to 'magic' command\n",
      "paradigm of programing in Python aka style of code writing\n",
      "    -dynamic\n",
      "working process \n",
      "    -edit-run-edit\n",
      "\n"
     ]
    },
    {
     "cell_type": "heading",
     "level": 2,
     "metadata": {},
     "source": [
      "Install"
     ]
    },
    {
     "cell_type": "markdown",
     "metadata": {},
     "source": [
      "Python 3.2 vs  python 2.7\n",
      "        It is important to clarify this difference \\\\\n",
      "        http://inventwithpython.com/appendixa.html\n",
      "        \n",
      "        randn(4,5) in 2.7        ==  random.randn(4,5) otherwise it does not work\n",
      "        print 'something' in 2.7 ==  print ('something') it is also a function\n",
      "        \n",
      "        installing python 3 on linux                                \n",
      "        sudo apt-get install python3 python3.3-numpy python3.3-scipy python3-matplotlib python3-pandas\n",
      "\n",
      "        To make Ipython -- pylab work, in addition one needs to instal:\n",
      "                     \n",
      "        sudo apt-get install python3-tk"
     ]
    },
    {
     "cell_type": "markdown",
     "metadata": {},
     "source": [
      "Ipython \n",
      "        \n",
      "        Simple installation of the program, and Ipython.\n",
      "        For linux simple\n",
      "                   \n",
      "        sudo apt-get install ipython3 ipython3-notebook\n",
      "\n",
      "        Windows:\n",
      "        python(x,y)\n",
      "        http://code.google.com/p/pythonxy/wiki/Downloads\n",
      "\n",
      "        Anaconda\n",
      "        https://store.continuum.io/cshop/anaconda/\n",
      "        and upgrade to python 3.3 as described here:\n",
      "        http://www.walkingrandomly.com/?p=5089\n"
     ]
    },
    {
     "cell_type": "raw",
     "metadata": {},
     "source": [
      "You can have both versions 2.~ and 3.~ on the same machine. On linux it works very nicely, with windows\n",
      "ipython3 is, in my case, could not load matplotlib (Anaconda)(Python(x,y) is only Py2.7).\n",
      "\n"
     ]
    },
    {
     "cell_type": "markdown",
     "metadata": {},
     "source": [
      "To check anytime which version is on type in as a shell command (outside python env.) in terminal or console: "
     ]
    },
    {
     "cell_type": "code",
     "collapsed": false,
     "input": [
      "python --version"
     ],
     "language": "python",
     "metadata": {},
     "outputs": []
    },
    {
     "cell_type": "raw",
     "metadata": {},
     "source": [
      "inside python we can check the module's version "
     ]
    },
    {
     "cell_type": "code",
     "collapsed": false,
     "input": [
      "import numpy"
     ],
     "language": "python",
     "metadata": {},
     "outputs": [],
     "prompt_number": 13
    },
    {
     "cell_type": "code",
     "collapsed": false,
     "input": [
      "numpy.version.version"
     ],
     "language": "python",
     "metadata": {},
     "outputs": [
      {
       "output_type": "pyout",
       "prompt_number": 14,
       "text": [
        "'1.7.1'"
       ]
      }
     ],
     "prompt_number": 14
    },
    {
     "cell_type": "heading",
     "level": 2,
     "metadata": {},
     "source": [
      "Text editor"
     ]
    },
    {
     "cell_type": "raw",
     "metadata": {},
     "source": [
      "Any that has :\n",
      "    -syntax highligthing \n",
      "    -can recognize file types and adjust the number of spaces to <TAB> key \n",
      "        Python uses indentation to distinguish things and 4 spaces make one tab\n",
      "    -can do area selection (on windows ALT+select) not just line select\n",
      "    -comment and uncomment blocks of code with correct character for commenting '#' in Python\n",
      "    -a good option is autocompletion for commands \n",
      "    \n",
      "    "
     ]
    },
    {
     "cell_type": "markdown",
     "metadata": {},
     "source": [
      "For Win I recommended Notepad++\n",
      "http://notepad-plus-plus.org/download/v6.5.4.html\n",
      "\n",
      "Or SciTe that comes with Python(x,y) distribution "
     ]
    },
    {
     "cell_type": "heading",
     "level": 2,
     "metadata": {},
     "source": [
      "How does it look like"
     ]
    },
    {
     "cell_type": "markdown",
     "metadata": {},
     "source": [
      "Python can run in a console/terminal by typing in:"
     ]
    },
    {
     "cell_type": "code",
     "collapsed": false,
     "input": [
      "python"
     ],
     "language": "python",
     "metadata": {},
     "outputs": []
    },
    {
     "cell_type": "markdown",
     "metadata": {},
     "source": [
      "to have more interesting command line look and capabilities use Ipython "
     ]
    },
    {
     "cell_type": "code",
     "collapsed": false,
     "input": [
      "ipython --pylab"
     ],
     "language": "python",
     "metadata": {},
     "outputs": []
    },
    {
     "cell_type": "markdown",
     "metadata": {},
     "source": [
      "where the --pylab automatically loads Numpy,Scypi, Matplotlib libraries so we don't need to import "
     ]
    },
    {
     "cell_type": "markdown",
     "metadata": {},
     "source": [
      "Also, in case the terminal style workflow is not appealing, one can just run the script file simply by \n",
      "by clicking on the file. "
     ]
    },
    {
     "cell_type": "heading",
     "level": 2,
     "metadata": {},
     "source": [
      "Working process "
     ]
    },
    {
     "cell_type": "heading",
     "level": 3,
     "metadata": {},
     "source": [
      "Interactive mode"
     ]
    },
    {
     "cell_type": "code",
     "collapsed": false,
     "input": [
      "When loading 'python' you get the standard interactive window:"
     ],
     "language": "python",
     "metadata": {},
     "outputs": []
    },
    {
     "cell_type": "code",
     "collapsed": false,
     "input": [
      "balaaz@balaaz:~ > python\n",
      "Python 2.7.5+ (default, Sep 19 2013, 13:48:49) \n",
      "[GCC 4.8.1] on linux2\n",
      "Type \"help\", \"copyright\", \"credits\" or \"license\" for more information.\n",
      ">>> import numpy\n",
      ">>> x=range(0,10)\n",
      ">>> "
     ],
     "language": "python",
     "metadata": {},
     "outputs": []
    },
    {
     "cell_type": "code",
     "collapsed": false,
     "input": [
      "We can call the 'ipython' and you get a bit different work environment "
     ],
     "language": "python",
     "metadata": {},
     "outputs": []
    },
    {
     "cell_type": "code",
     "collapsed": false,
     "input": [
      "balaaz@balaaz:~ > ipython --pylab\n",
      "Python 2.7.5+ (default, Sep 19 2013, 13:48:49) \n",
      "Type \"copyright\", \"credits\" or \"license\" for more information.\n",
      "\n",
      "IPython 0.13.2 -- An enhanced Interactive Python.\n",
      "?         -> Introduction and overview of IPython's features.\n",
      "%quickref -> Quick reference.\n",
      "help      -> Python's own help system.\n",
      "object?   -> Details about 'object', use 'object??' for extra details.\n",
      "\n",
      "Welcome to pylab, a matplotlib-based Python environment [backend: TkAgg].\n",
      "For more information, type 'help(pylab)'.\n",
      "\n",
      "In [1]: print 'hello'\n",
      "hello\n",
      "\n",
      "In [2]: 2/3.\n",
      "Out[2]: 0.6666666666666666\n",
      "\n",
      "In [3]: _2+100\n",
      "Out[3]: 100.66666666666667\n",
      "\n",
      "In [4]:"
     ],
     "language": "python",
     "metadata": {},
     "outputs": []
    },
    {
     "cell_type": "raw",
     "metadata": {},
     "source": [
      "In these cases you type line by line, and every input has a response.\n",
      "In ipython you have them numbered, so you can call them by typing underscore and the number of line \n"
     ]
    },
    {
     "cell_type": "raw",
     "metadata": {},
     "source": [
      "Another good feature of interactive ipython is the typing history. you can call previous executions by \n",
      "moving with up and down arrows on the keyboard\n"
     ]
    },
    {
     "cell_type": "heading",
     "level": 3,
     "metadata": {},
     "source": [
      "edit-run-edit mode"
     ]
    },
    {
     "cell_type": "raw",
     "metadata": {},
     "source": [
      "But to save large scripts the interactive sculpturing is not convenient. You write down all in as a text,\n",
      "give the text file '.py' extension and run it! \n",
      "You can run it in shell level or from inside python.\n",
      "\n"
     ]
    },
    {
     "cell_type": "markdown",
     "metadata": {},
     "source": [
      "to run from shell"
     ]
    },
    {
     "cell_type": "code",
     "collapsed": false,
     "input": [
      "python script_name.py "
     ],
     "language": "python",
     "metadata": {},
     "outputs": []
    },
    {
     "cell_type": "markdown",
     "metadata": {},
     "source": [
      "to run from inside ipyton"
     ]
    },
    {
     "cell_type": "code",
     "collapsed": false,
     "input": [
      "run script_name.py"
     ],
     "language": "python",
     "metadata": {},
     "outputs": []
    },
    {
     "cell_type": "raw",
     "metadata": {},
     "source": [
      "For running the script inside python one needs to be in the directory where the script is.\n"
     ]
    },
    {
     "cell_type": "raw",
     "metadata": {},
     "source": [
      "it is simple to navigate with 'cd' and 'cd ..' , these shell commands work inside ipython same way\n"
     ]
    },
    {
     "cell_type": "raw",
     "metadata": {},
     "source": [
      "<TAB> completion : \n",
      "    hitting the tabulator key after 'run' will list out all the scripts that you can choose\n",
      "    from the current directory, by starting to type a letter and then hit <TAB> will narrow down the search \n",
      "    \n",
      "    "
     ]
    },
    {
     "cell_type": "code",
     "collapsed": false,
     "input": [],
     "language": "python",
     "metadata": {},
     "outputs": []
    },
    {
     "cell_type": "heading",
     "level": 3,
     "metadata": {},
     "source": [
      "When writing a script in the text editor, at every moment you can turn to a console to run it (or click \n",
      "on the file), so edit-run and then edit again if you want to add something to the code.\n",
      "\n"
     ]
    },
    {
     "cell_type": "code",
     "collapsed": false,
     "input": [],
     "language": "python",
     "metadata": {},
     "outputs": []
    },
    {
     "cell_type": "code",
     "collapsed": false,
     "input": [
      "#//end of the 'before start' \n",
      "\n"
     ],
     "language": "python",
     "metadata": {},
     "outputs": []
    }
   ],
   "metadata": {}
  }
 ]
}