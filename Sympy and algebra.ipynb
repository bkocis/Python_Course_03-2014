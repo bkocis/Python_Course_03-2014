{
 "metadata": {
  "name": "Sympy and algebra"
 },
 "nbformat": 3,
 "nbformat_minor": 0,
 "worksheets": [
  {
   "cells": [
    {
     "cell_type": "heading",
     "level": 1,
     "metadata": {},
     "source": [
      "Sympy a library for symbolic mathematics "
     ]
    },
    {
     "cell_type": "code",
     "collapsed": false,
     "input": [
      "from sympy import *"
     ],
     "language": "python",
     "metadata": {},
     "outputs": [],
     "prompt_number": 12
    },
    {
     "cell_type": "raw",
     "metadata": {},
     "source": [
      "To start just a few handy calculus examples:"
     ]
    },
    {
     "cell_type": "code",
     "collapsed": false,
     "input": [
      "#first to declare variables\n",
      "\n",
      "x, y, z = symbols('x y z')\n",
      "\n",
      "# to get nicely formatted output make sure you include unicode \n",
      "init_printing(use_unicode=True) "
     ],
     "language": "python",
     "metadata": {},
     "outputs": [],
     "prompt_number": 34
    },
    {
     "cell_type": "raw",
     "metadata": {},
     "source": [
      "Differenciate:"
     ]
    },
    {
     "cell_type": "code",
     "collapsed": false,
     "input": [
      "diff(x**2+x, x) "
     ],
     "language": "python",
     "metadata": {},
     "outputs": [
      {
       "latex": [
        "$$2 x + 1$$"
       ],
       "output_type": "pyout",
       "png": "[encoded data removed]",
       "prompt_number": 35,
       "text": [
        "2\u22c5x + 1"
       ]
      }
     ],
     "prompt_number": 35
    },
    {
     "cell_type": "raw",
     "metadata": {},
     "source": [
      "Integrate:"
     ]
    },
    {
     "cell_type": "code",
     "collapsed": false,
     "input": [
      "integrate(log(1/x))"
     ],
     "language": "python",
     "metadata": {},
     "outputs": [
      {
       "latex": [
        "$$- x \\log{\\left (x \\right )} + x$$"
       ],
       "output_type": "pyout",
       "png": "[encoded data removed]",
       "prompt_number": 36,
       "text": [
        "-x\u22c5log(x) + x"
       ]
      }
     ],
     "prompt_number": 36
    },
    {
     "cell_type": "markdown",
     "metadata": {},
     "source": [
      "Symolic equation solving:"
     ]
    },
    {
     "cell_type": "code",
     "collapsed": false,
     "input": [
      "expression=x**2+x+1"
     ],
     "language": "python",
     "metadata": {},
     "outputs": [],
     "prompt_number": 21
    },
    {
     "cell_type": "code",
     "collapsed": false,
     "input": [
      "expression"
     ],
     "language": "python",
     "metadata": {},
     "outputs": [
      {
       "latex": [
        "$$x^{2} + x + 1$$"
       ],
       "output_type": "pyout",
       "png": "[encoded data removed]",
       "prompt_number": 22,
       "text": [
        " 2        \n",
        "x  + x + 1"
       ]
      }
     ],
     "prompt_number": 22
    },
    {
     "cell_type": "code",
     "collapsed": false,
     "input": [
      "expression-x"
     ],
     "language": "python",
     "metadata": {},
     "outputs": [
      {
       "latex": [
        "$$x^{2} + 1$$"
       ],
       "output_type": "pyout",
       "png": "[encoded data removed]",
       "prompt_number": 23,
       "text": [
        " 2    \n",
        "x  + 1"
       ]
      }
     ],
     "prompt_number": 23
    },
    {
     "cell_type": "code",
     "collapsed": false,
     "input": [
      "sqrt(expression)"
     ],
     "language": "python",
     "metadata": {},
     "outputs": [
      {
       "latex": [
        "$$\\sqrt{x^{2} + x + 1}$$"
       ],
       "output_type": "pyout",
       "png": "[encoded data removed]",
       "prompt_number": 24,
       "text": [
        "   ____________\n",
        "  \u2571  2         \n",
        "\u2572\u2571  x  + x + 1 "
       ]
      }
     ],
     "prompt_number": 24
    },
    {
     "cell_type": "code",
     "collapsed": false,
     "input": [
      "expression**2"
     ],
     "language": "python",
     "metadata": {},
     "outputs": [
      {
       "latex": [
        "$$\\left(x^{2} + x + 1\\right)^{2}$$"
       ],
       "output_type": "pyout",
       "png": "[encoded data removed]",
       "prompt_number": 25,
       "text": [
        "            2\n",
        "\u239b 2        \u239e \n",
        "\u239dx  + x + 1\u23a0 "
       ]
      }
     ],
     "prompt_number": 25
    },
    {
     "cell_type": "code",
     "collapsed": false,
     "input": [
      "a=solve(expression,x)\n",
      "a                      # this line will just make Out[]"
     ],
     "language": "python",
     "metadata": {},
     "outputs": [
      {
       "latex": [
        "$$\\begin{bmatrix}- \\frac{1}{2} - \\frac{1}{2} \\sqrt{3} \\mathbf{\\imath}, & - \\frac{1}{2} + \\frac{1}{2} \\sqrt{3} \\mathbf{\\imath}\\end{bmatrix}$$"
       ],
       "output_type": "pyout",
       "prompt_number": 31,
       "text": [
        "\u23a1        ___            ___  \u23a4\n",
        "\u23a2  1   \u2572\u2571 3 \u22c5\u2148    1   \u2572\u2571 3 \u22c5\u2148\u23a5\n",
        "\u23a2- \u2500 - \u2500\u2500\u2500\u2500\u2500\u2500\u2500, - \u2500 + \u2500\u2500\u2500\u2500\u2500\u2500\u2500\u23a5\n",
        "\u23a3  2      2       2      2   \u23a6"
       ]
      }
     ],
     "prompt_number": 31
    },
    {
     "cell_type": "code",
     "collapsed": false,
     "input": [
      "latex(expression)  #for simple latex code, ready to copy to your .tex file "
     ],
     "language": "python",
     "metadata": {},
     "outputs": [
      {
       "output_type": "pyout",
       "prompt_number": 29,
       "text": [
        "x^{2} + x + 1"
       ]
      }
     ],
     "prompt_number": 29
    },
    {
     "cell_type": "code",
     "collapsed": false,
     "input": [
      "latex(a)"
     ],
     "language": "python",
     "metadata": {},
     "outputs": [
      {
       "output_type": "pyout",
       "prompt_number": 30,
       "text": [
        "\\begin{bmatrix}- \\frac{1}{2} - \\frac{1}{2} \\sqrt{3} \\mathbf{\\imath}, & - \\frac\n",
        "{1}{2} + \\frac{1}{2} \\sqrt{3} \\mathbf{\\imath}\\end{bmatrix}"
       ]
      }
     ],
     "prompt_number": 30
    },
    {
     "cell_type": "markdown",
     "metadata": {},
     "source": [
      "...und so weiter , for more look here "
     ]
    },
    {
     "cell_type": "markdown",
     "metadata": {},
     "source": [
      "http://docs.sympy.org/latest/tutorial/index.html"
     ]
    },
    {
     "cell_type": "code",
     "collapsed": false,
     "input": [],
     "language": "python",
     "metadata": {},
     "outputs": []
    }
   ],
   "metadata": {}
  }
 ]
}